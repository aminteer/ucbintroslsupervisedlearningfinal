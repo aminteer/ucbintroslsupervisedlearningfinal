{
 "cells": [
  {
   "cell_type": "markdown",
   "id": "cf3dd6df-b0a6-4629-85ce-f6c531c03a4d",
   "metadata": {},
   "source": [
    "# Flu Fix Accelerator Analysis and Model Development\n",
    "### Background\n",
    "\n",
    "### Business situation description"
   ]
  },
  {
   "cell_type": "code",
   "execution_count": 2,
   "id": "edb65024-d40b-4165-a4ec-1b059dbcb7d2",
   "metadata": {},
   "outputs": [
    {
     "name": "stderr",
     "output_type": "stream",
     "text": [
      "/var/folders/5x/6qq01srd4dx12xk1x9v713jr0000gn/T/ipykernel_69741/884576307.py:1: DeprecationWarning: \n",
      "Pyarrow will become a required dependency of pandas in the next major release of pandas (pandas 3.0),\n",
      "(to allow more performant data types, such as the Arrow string type, and better interoperability with other libraries)\n",
      "but was not found to be installed on your system.\n",
      "If this would cause problems for you,\n",
      "please provide us feedback at https://github.com/pandas-dev/pandas/issues/54466\n",
      "        \n",
      "  import pandas as pd\n"
     ]
    }
   ],
   "source": [
    "import pandas as pd\n",
    "import numpy as np\n",
    "import matplotlib.pyplot as plt\n",
    "import seaborn as sns\n",
    "\n",
    "from sklearn.preprocessing import LabelEncoder\n",
    "# import warnings\n",
    "# warnings.filterwarnings(\"ignore\")\n",
    "from sklearn.model_selection import train_test_split\n",
    "from sklearn.preprocessing import MinMaxScaler\n",
    "\n",
    "from sklearn.metrics import mean_absolute_error, mean_squared_error\n",
    "from sklearn.metrics import confusion_matrix\n",
    "from sklearn.metrics import roc_auc_score"
   ]
  },
  {
   "cell_type": "markdown",
   "id": "f19cda2e-d8b7-405a-a064-20a411a48755",
   "metadata": {},
   "source": [
    "## Source Data Background\n",
    "#### source data and link: https://www.kaggle.com/datasets/uom190346a/disease-symptoms-and-patient-profile-dataset?resource=download\n"
   ]
  },
  {
   "cell_type": "code",
   "execution_count": 3,
   "id": "1b6e9eb6-6d53-46de-bcdb-0668facfee6c",
   "metadata": {},
   "outputs": [
    {
     "data": {
      "text/plain": [
       "<bound method NDFrame.head of          Disease Fever Cough Fatigue Difficulty Breathing  Age  Gender  \\\n",
       "0      Influenza   Yes    No     Yes                  Yes   19  Female   \n",
       "1    Common Cold    No   Yes     Yes                   No   25  Female   \n",
       "2         Eczema    No   Yes     Yes                   No   25  Female   \n",
       "3         Asthma   Yes   Yes      No                  Yes   25    Male   \n",
       "4         Asthma   Yes   Yes      No                  Yes   25    Male   \n",
       "..           ...   ...   ...     ...                  ...  ...     ...   \n",
       "344       Stroke   Yes    No     Yes                   No   80  Female   \n",
       "345       Stroke   Yes    No     Yes                   No   85    Male   \n",
       "346       Stroke   Yes    No     Yes                   No   85    Male   \n",
       "347       Stroke   Yes    No     Yes                   No   90  Female   \n",
       "348       Stroke   Yes    No     Yes                   No   90  Female   \n",
       "\n",
       "    Blood Pressure Cholesterol Level Outcome Variable  \n",
       "0              Low            Normal         Positive  \n",
       "1           Normal            Normal         Negative  \n",
       "2           Normal            Normal         Negative  \n",
       "3           Normal            Normal         Positive  \n",
       "4           Normal            Normal         Positive  \n",
       "..             ...               ...              ...  \n",
       "344           High              High         Positive  \n",
       "345           High              High         Positive  \n",
       "346           High              High         Positive  \n",
       "347           High              High         Positive  \n",
       "348           High              High         Positive  \n",
       "\n",
       "[349 rows x 10 columns]>"
      ]
     },
     "execution_count": 3,
     "metadata": {},
     "output_type": "execute_result"
    }
   ],
   "source": [
    "#Load data - data file is local\n",
    "data = pd.read_csv('Disease_symptom_and_patient_profile_dataset.csv')\n",
    "\n",
    "data.head()"
   ]
  },
  {
   "cell_type": "code",
   "execution_count": null,
   "id": "7c5072ad-1084-4483-ab69-4eb7aa1d5d81",
   "metadata": {},
   "outputs": [],
   "source": []
  }
 ],
 "metadata": {
  "kernelspec": {
   "display_name": "Python 3 (ipykernel)",
   "language": "python",
   "name": "python3"
  },
  "language_info": {
   "codemirror_mode": {
    "name": "ipython",
    "version": 3
   },
   "file_extension": ".py",
   "mimetype": "text/x-python",
   "name": "python",
   "nbconvert_exporter": "python",
   "pygments_lexer": "ipython3",
   "version": "3.11.5"
  }
 },
 "nbformat": 4,
 "nbformat_minor": 5
}
